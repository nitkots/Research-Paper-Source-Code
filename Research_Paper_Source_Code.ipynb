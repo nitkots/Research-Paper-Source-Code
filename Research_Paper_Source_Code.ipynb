{
  "nbformat": 4,
  "nbformat_minor": 0,
  "metadata": {
    "colab": {
      "provenance": []
    },
    "kernelspec": {
      "name": "python3",
      "display_name": "Python 3"
    },
    "language_info": {
      "name": "python"
    }
  },
  "cells": [
    {
      "cell_type": "markdown",
      "source": [
        "Here we are importing some necessary libraries we will need"
      ],
      "metadata": {
        "id": "JTnwR2UdDrhP"
      }
    },
    {
      "cell_type": "code",
      "execution_count": null,
      "metadata": {
        "id": "v-__J04NsX4P"
      },
      "outputs": [],
      "source": [
        "import sklearn\n",
        "import numpy as np\n",
        "import pandas as pd\n",
        "\n",
        "\n",
        "\n",
        "import warnings\n",
        "warnings.filterwarnings(\"ignore\")"
      ]
    },
    {
      "cell_type": "code",
      "source": [
        "#Import the data and print the first 5 columns using the .head() function\n",
        "path = '/content/drive/MyDrive/Dataset/Research Paper Dataset Confirmed.csv'\n",
        "wind_speed_data = pd.read_csv(path)\n",
        "wind_speed_data.head()\n"
      ],
      "metadata": {
        "id": "x-vLeNvq0p3a"
      },
      "execution_count": null,
      "outputs": []
    },
    {
      "cell_type": "code",
      "source": [
        "#Length of the dataset\n",
        "print(len(wind_speed_data))"
      ],
      "metadata": {
        "colab": {
          "base_uri": "https://localhost:8080/"
        },
        "id": "Iwgy2XROETg6",
        "outputId": "e41c9f89-db49-4b61-fe58-fa953875839a"
      },
      "execution_count": null,
      "outputs": [
        {
          "output_type": "stream",
          "name": "stdout",
          "text": [
            "50530\n"
          ]
        }
      ]
    },
    {
      "cell_type": "code",
      "source": [
        "#Plotting the data\n",
        "import matplotlib.pyplot as plt\n",
        "import seaborn as sns\n",
        "wind_speed_data['date_formatted1'] = pd.to_datetime(wind_speed_data['Date/time'] , format='%d %m %Y %H:%M')\n",
        "fig = sns.lineplot(data = wind_speed_data.iloc[:100000000000], x= wind_speed_data['date_formatted1'], y= wind_speed_data['Wind Speed (m/s)'])\n",
        "plt.xlabel('Date')\n",
        "plt.ylabel('Wind Speed (m/s)')\n",
        "plt.show()"
      ],
      "metadata": {
        "id": "R69KE92DL1ju"
      },
      "execution_count": null,
      "outputs": []
    },
    {
      "cell_type": "code",
      "source": [
        "#Importing metrics by which we will be use to evaluate the data\n",
        "from sklearn.metrics import mean_squared_error, mean_absolute_error, r2_score\n",
        "\n",
        "#Formatting the Date/Time table\n",
        "wind_speed_data['date_formatted'] = pd.to_datetime(wind_speed_data['Date/Time'])\n",
        "\n",
        "# Apply the toordinal() method to make it an object\n",
        "wind_speed_data['date_formatted'] = wind_speed_data['date_formatted'].apply(pd.Timestamp.toordinal)\n",
        "\n",
        "\n",
        "#Import library that splits the data\n",
        "from sklearn.model_selection import train_test_split\n",
        "\n",
        "#Split the data, Here we are splitting it with 80% train and 20% test\n",
        "X = wind_speed_data[['date_formatted']]\n",
        "Y = wind_speed_data[['Wind Speed (m/s)']]\n",
        "X_train, X_test, Y_train, Y_test = train_test_split(X, Y, test_size=0.2)\n",
        "\n",
        "\n",
        "#Print the number of elements in test and train data\n",
        "print(X_train.shape, X_test.shape, Y_train.shape, Y_test.shape)\n"
      ],
      "metadata": {
        "colab": {
          "base_uri": "https://localhost:8080/"
        },
        "id": "opMmtC06AhDp",
        "outputId": "82dad98c-e85f-486c-8513-f70e9668f2e6"
      },
      "execution_count": null,
      "outputs": [
        {
          "output_type": "stream",
          "name": "stdout",
          "text": [
            "(40424, 1) (10106, 1) (40424, 1) (10106, 1)\n"
          ]
        }
      ]
    },
    {
      "cell_type": "code",
      "source": [
        "#Linear Regression\n",
        "from sklearn.linear_model import LinearRegression\n",
        "linear_regression_model = LinearRegression()\n",
        "linear_regression_model.fit(X_train, Y_train)\n",
        "Y_pred = linear_regression_model.predict(X_test)\n"
      ],
      "metadata": {
        "id": "YZc5QZerDTem"
      },
      "execution_count": null,
      "outputs": []
    },
    {
      "cell_type": "code",
      "source": [
        "#Linear Regression Results\n",
        "MSE = mean_squared_error(Y_test, Y_pred)\n",
        "MAE = mean_absolute_error(Y_test, Y_pred)\n",
        "R2 = r2_score(Y_test, Y_pred)\n",
        "print(MSE)\n",
        "print(MAE)\n",
        "print(R2)\n"
      ],
      "metadata": {
        "colab": {
          "base_uri": "https://localhost:8080/"
        },
        "id": "4BK8Qk_YKcXB",
        "outputId": "c66f14b3-65e9-4497-c03d-3f4f0c3a5666"
      },
      "execution_count": null,
      "outputs": [
        {
          "output_type": "stream",
          "name": "stdout",
          "text": [
            "17.67695948255903\n",
            "3.3963519164870566\n",
            "0.0032756798687213484\n"
          ]
        }
      ]
    },
    {
      "cell_type": "code",
      "source": [
        "wind_speed_data.head(20)"
      ],
      "metadata": {
        "colab": {
          "base_uri": "https://localhost:8080/",
          "height": 676
        },
        "id": "NKdvuWDyXO75",
        "outputId": "bd1e5f6d-aaf6-4242-8fa3-e65f1d55832e"
      },
      "execution_count": null,
      "outputs": [
        {
          "output_type": "execute_result",
          "data": {
            "text/plain": [
              "           Date/Time  Wind Speed (m/s)  date_formatted\n",
              "0   01 01 2018 00:00          5.311336          736695\n",
              "1   01 01 2018 00:10          5.672167          736695\n",
              "2   01 01 2018 00:20          5.216037          736695\n",
              "3   01 01 2018 00:30          5.659674          736695\n",
              "4   01 01 2018 00:40          5.577941          736695\n",
              "5   01 01 2018 00:50          5.604052          736695\n",
              "6   01 01 2018 01:00          5.793008          736695\n",
              "7   01 01 2018 01:10          5.306050          736695\n",
              "8   01 01 2018 01:20          5.584629          736695\n",
              "9   01 01 2018 01:30          5.523228          736695\n",
              "10  01 01 2018 01:40          5.724116          736695\n",
              "11  01 01 2018 01:50          5.934199          736695\n",
              "12  01 01 2018 02:00          6.547414          736695\n",
              "13  01 01 2018 02:10          6.199746          736695\n",
              "14  01 01 2018 02:20          6.505383          736695\n",
              "15  01 01 2018 02:30          6.634116          736695\n",
              "16  01 01 2018 02:40          6.378913          736695\n",
              "17  01 01 2018 02:50          6.446653          736695\n",
              "18  01 01 2018 03:00          6.415083          736695\n",
              "19  01 01 2018 03:10          6.437531          736695"
            ],
            "text/html": [
              "\n",
              "  <div id=\"df-c4c576fc-4c4f-4bc8-8615-31bc78dec860\" class=\"colab-df-container\">\n",
              "    <div>\n",
              "<style scoped>\n",
              "    .dataframe tbody tr th:only-of-type {\n",
              "        vertical-align: middle;\n",
              "    }\n",
              "\n",
              "    .dataframe tbody tr th {\n",
              "        vertical-align: top;\n",
              "    }\n",
              "\n",
              "    .dataframe thead th {\n",
              "        text-align: right;\n",
              "    }\n",
              "</style>\n",
              "<table border=\"1\" class=\"dataframe\">\n",
              "  <thead>\n",
              "    <tr style=\"text-align: right;\">\n",
              "      <th></th>\n",
              "      <th>Date/Time</th>\n",
              "      <th>Wind Speed (m/s)</th>\n",
              "      <th>date_formatted</th>\n",
              "    </tr>\n",
              "  </thead>\n",
              "  <tbody>\n",
              "    <tr>\n",
              "      <th>0</th>\n",
              "      <td>01 01 2018 00:00</td>\n",
              "      <td>5.311336</td>\n",
              "      <td>736695</td>\n",
              "    </tr>\n",
              "    <tr>\n",
              "      <th>1</th>\n",
              "      <td>01 01 2018 00:10</td>\n",
              "      <td>5.672167</td>\n",
              "      <td>736695</td>\n",
              "    </tr>\n",
              "    <tr>\n",
              "      <th>2</th>\n",
              "      <td>01 01 2018 00:20</td>\n",
              "      <td>5.216037</td>\n",
              "      <td>736695</td>\n",
              "    </tr>\n",
              "    <tr>\n",
              "      <th>3</th>\n",
              "      <td>01 01 2018 00:30</td>\n",
              "      <td>5.659674</td>\n",
              "      <td>736695</td>\n",
              "    </tr>\n",
              "    <tr>\n",
              "      <th>4</th>\n",
              "      <td>01 01 2018 00:40</td>\n",
              "      <td>5.577941</td>\n",
              "      <td>736695</td>\n",
              "    </tr>\n",
              "    <tr>\n",
              "      <th>5</th>\n",
              "      <td>01 01 2018 00:50</td>\n",
              "      <td>5.604052</td>\n",
              "      <td>736695</td>\n",
              "    </tr>\n",
              "    <tr>\n",
              "      <th>6</th>\n",
              "      <td>01 01 2018 01:00</td>\n",
              "      <td>5.793008</td>\n",
              "      <td>736695</td>\n",
              "    </tr>\n",
              "    <tr>\n",
              "      <th>7</th>\n",
              "      <td>01 01 2018 01:10</td>\n",
              "      <td>5.306050</td>\n",
              "      <td>736695</td>\n",
              "    </tr>\n",
              "    <tr>\n",
              "      <th>8</th>\n",
              "      <td>01 01 2018 01:20</td>\n",
              "      <td>5.584629</td>\n",
              "      <td>736695</td>\n",
              "    </tr>\n",
              "    <tr>\n",
              "      <th>9</th>\n",
              "      <td>01 01 2018 01:30</td>\n",
              "      <td>5.523228</td>\n",
              "      <td>736695</td>\n",
              "    </tr>\n",
              "    <tr>\n",
              "      <th>10</th>\n",
              "      <td>01 01 2018 01:40</td>\n",
              "      <td>5.724116</td>\n",
              "      <td>736695</td>\n",
              "    </tr>\n",
              "    <tr>\n",
              "      <th>11</th>\n",
              "      <td>01 01 2018 01:50</td>\n",
              "      <td>5.934199</td>\n",
              "      <td>736695</td>\n",
              "    </tr>\n",
              "    <tr>\n",
              "      <th>12</th>\n",
              "      <td>01 01 2018 02:00</td>\n",
              "      <td>6.547414</td>\n",
              "      <td>736695</td>\n",
              "    </tr>\n",
              "    <tr>\n",
              "      <th>13</th>\n",
              "      <td>01 01 2018 02:10</td>\n",
              "      <td>6.199746</td>\n",
              "      <td>736695</td>\n",
              "    </tr>\n",
              "    <tr>\n",
              "      <th>14</th>\n",
              "      <td>01 01 2018 02:20</td>\n",
              "      <td>6.505383</td>\n",
              "      <td>736695</td>\n",
              "    </tr>\n",
              "    <tr>\n",
              "      <th>15</th>\n",
              "      <td>01 01 2018 02:30</td>\n",
              "      <td>6.634116</td>\n",
              "      <td>736695</td>\n",
              "    </tr>\n",
              "    <tr>\n",
              "      <th>16</th>\n",
              "      <td>01 01 2018 02:40</td>\n",
              "      <td>6.378913</td>\n",
              "      <td>736695</td>\n",
              "    </tr>\n",
              "    <tr>\n",
              "      <th>17</th>\n",
              "      <td>01 01 2018 02:50</td>\n",
              "      <td>6.446653</td>\n",
              "      <td>736695</td>\n",
              "    </tr>\n",
              "    <tr>\n",
              "      <th>18</th>\n",
              "      <td>01 01 2018 03:00</td>\n",
              "      <td>6.415083</td>\n",
              "      <td>736695</td>\n",
              "    </tr>\n",
              "    <tr>\n",
              "      <th>19</th>\n",
              "      <td>01 01 2018 03:10</td>\n",
              "      <td>6.437531</td>\n",
              "      <td>736695</td>\n",
              "    </tr>\n",
              "  </tbody>\n",
              "</table>\n",
              "</div>\n",
              "    <div class=\"colab-df-buttons\">\n",
              "\n",
              "  <div class=\"colab-df-container\">\n",
              "    <button class=\"colab-df-convert\" onclick=\"convertToInteractive('df-c4c576fc-4c4f-4bc8-8615-31bc78dec860')\"\n",
              "            title=\"Convert this dataframe to an interactive table.\"\n",
              "            style=\"display:none;\">\n",
              "\n",
              "  <svg xmlns=\"http://www.w3.org/2000/svg\" height=\"24px\" viewBox=\"0 -960 960 960\">\n",
              "    <path d=\"M120-120v-720h720v720H120Zm60-500h600v-160H180v160Zm220 220h160v-160H400v160Zm0 220h160v-160H400v160ZM180-400h160v-160H180v160Zm440 0h160v-160H620v160ZM180-180h160v-160H180v160Zm440 0h160v-160H620v160Z\"/>\n",
              "  </svg>\n",
              "    </button>\n",
              "\n",
              "  <style>\n",
              "    .colab-df-container {\n",
              "      display:flex;\n",
              "      gap: 12px;\n",
              "    }\n",
              "\n",
              "    .colab-df-convert {\n",
              "      background-color: #E8F0FE;\n",
              "      border: none;\n",
              "      border-radius: 50%;\n",
              "      cursor: pointer;\n",
              "      display: none;\n",
              "      fill: #1967D2;\n",
              "      height: 32px;\n",
              "      padding: 0 0 0 0;\n",
              "      width: 32px;\n",
              "    }\n",
              "\n",
              "    .colab-df-convert:hover {\n",
              "      background-color: #E2EBFA;\n",
              "      box-shadow: 0px 1px 2px rgba(60, 64, 67, 0.3), 0px 1px 3px 1px rgba(60, 64, 67, 0.15);\n",
              "      fill: #174EA6;\n",
              "    }\n",
              "\n",
              "    .colab-df-buttons div {\n",
              "      margin-bottom: 4px;\n",
              "    }\n",
              "\n",
              "    [theme=dark] .colab-df-convert {\n",
              "      background-color: #3B4455;\n",
              "      fill: #D2E3FC;\n",
              "    }\n",
              "\n",
              "    [theme=dark] .colab-df-convert:hover {\n",
              "      background-color: #434B5C;\n",
              "      box-shadow: 0px 1px 3px 1px rgba(0, 0, 0, 0.15);\n",
              "      filter: drop-shadow(0px 1px 2px rgba(0, 0, 0, 0.3));\n",
              "      fill: #FFFFFF;\n",
              "    }\n",
              "  </style>\n",
              "\n",
              "    <script>\n",
              "      const buttonEl =\n",
              "        document.querySelector('#df-c4c576fc-4c4f-4bc8-8615-31bc78dec860 button.colab-df-convert');\n",
              "      buttonEl.style.display =\n",
              "        google.colab.kernel.accessAllowed ? 'block' : 'none';\n",
              "\n",
              "      async function convertToInteractive(key) {\n",
              "        const element = document.querySelector('#df-c4c576fc-4c4f-4bc8-8615-31bc78dec860');\n",
              "        const dataTable =\n",
              "          await google.colab.kernel.invokeFunction('convertToInteractive',\n",
              "                                                    [key], {});\n",
              "        if (!dataTable) return;\n",
              "\n",
              "        const docLinkHtml = 'Like what you see? Visit the ' +\n",
              "          '<a target=\"_blank\" href=https://colab.research.google.com/notebooks/data_table.ipynb>data table notebook</a>'\n",
              "          + ' to learn more about interactive tables.';\n",
              "        element.innerHTML = '';\n",
              "        dataTable['output_type'] = 'display_data';\n",
              "        await google.colab.output.renderOutput(dataTable, element);\n",
              "        const docLink = document.createElement('div');\n",
              "        docLink.innerHTML = docLinkHtml;\n",
              "        element.appendChild(docLink);\n",
              "      }\n",
              "    </script>\n",
              "  </div>\n",
              "\n",
              "\n",
              "<div id=\"df-0cb162be-3ea0-4606-8fc0-1184b2b4747b\">\n",
              "  <button class=\"colab-df-quickchart\" onclick=\"quickchart('df-0cb162be-3ea0-4606-8fc0-1184b2b4747b')\"\n",
              "            title=\"Suggest charts\"\n",
              "            style=\"display:none;\">\n",
              "\n",
              "<svg xmlns=\"http://www.w3.org/2000/svg\" height=\"24px\"viewBox=\"0 0 24 24\"\n",
              "     width=\"24px\">\n",
              "    <g>\n",
              "        <path d=\"M19 3H5c-1.1 0-2 .9-2 2v14c0 1.1.9 2 2 2h14c1.1 0 2-.9 2-2V5c0-1.1-.9-2-2-2zM9 17H7v-7h2v7zm4 0h-2V7h2v10zm4 0h-2v-4h2v4z\"/>\n",
              "    </g>\n",
              "</svg>\n",
              "  </button>\n",
              "\n",
              "<style>\n",
              "  .colab-df-quickchart {\n",
              "      --bg-color: #E8F0FE;\n",
              "      --fill-color: #1967D2;\n",
              "      --hover-bg-color: #E2EBFA;\n",
              "      --hover-fill-color: #174EA6;\n",
              "      --disabled-fill-color: #AAA;\n",
              "      --disabled-bg-color: #DDD;\n",
              "  }\n",
              "\n",
              "  [theme=dark] .colab-df-quickchart {\n",
              "      --bg-color: #3B4455;\n",
              "      --fill-color: #D2E3FC;\n",
              "      --hover-bg-color: #434B5C;\n",
              "      --hover-fill-color: #FFFFFF;\n",
              "      --disabled-bg-color: #3B4455;\n",
              "      --disabled-fill-color: #666;\n",
              "  }\n",
              "\n",
              "  .colab-df-quickchart {\n",
              "    background-color: var(--bg-color);\n",
              "    border: none;\n",
              "    border-radius: 50%;\n",
              "    cursor: pointer;\n",
              "    display: none;\n",
              "    fill: var(--fill-color);\n",
              "    height: 32px;\n",
              "    padding: 0;\n",
              "    width: 32px;\n",
              "  }\n",
              "\n",
              "  .colab-df-quickchart:hover {\n",
              "    background-color: var(--hover-bg-color);\n",
              "    box-shadow: 0 1px 2px rgba(60, 64, 67, 0.3), 0 1px 3px 1px rgba(60, 64, 67, 0.15);\n",
              "    fill: var(--button-hover-fill-color);\n",
              "  }\n",
              "\n",
              "  .colab-df-quickchart-complete:disabled,\n",
              "  .colab-df-quickchart-complete:disabled:hover {\n",
              "    background-color: var(--disabled-bg-color);\n",
              "    fill: var(--disabled-fill-color);\n",
              "    box-shadow: none;\n",
              "  }\n",
              "\n",
              "  .colab-df-spinner {\n",
              "    border: 2px solid var(--fill-color);\n",
              "    border-color: transparent;\n",
              "    border-bottom-color: var(--fill-color);\n",
              "    animation:\n",
              "      spin 1s steps(1) infinite;\n",
              "  }\n",
              "\n",
              "  @keyframes spin {\n",
              "    0% {\n",
              "      border-color: transparent;\n",
              "      border-bottom-color: var(--fill-color);\n",
              "      border-left-color: var(--fill-color);\n",
              "    }\n",
              "    20% {\n",
              "      border-color: transparent;\n",
              "      border-left-color: var(--fill-color);\n",
              "      border-top-color: var(--fill-color);\n",
              "    }\n",
              "    30% {\n",
              "      border-color: transparent;\n",
              "      border-left-color: var(--fill-color);\n",
              "      border-top-color: var(--fill-color);\n",
              "      border-right-color: var(--fill-color);\n",
              "    }\n",
              "    40% {\n",
              "      border-color: transparent;\n",
              "      border-right-color: var(--fill-color);\n",
              "      border-top-color: var(--fill-color);\n",
              "    }\n",
              "    60% {\n",
              "      border-color: transparent;\n",
              "      border-right-color: var(--fill-color);\n",
              "    }\n",
              "    80% {\n",
              "      border-color: transparent;\n",
              "      border-right-color: var(--fill-color);\n",
              "      border-bottom-color: var(--fill-color);\n",
              "    }\n",
              "    90% {\n",
              "      border-color: transparent;\n",
              "      border-bottom-color: var(--fill-color);\n",
              "    }\n",
              "  }\n",
              "</style>\n",
              "\n",
              "  <script>\n",
              "    async function quickchart(key) {\n",
              "      const quickchartButtonEl =\n",
              "        document.querySelector('#' + key + ' button');\n",
              "      quickchartButtonEl.disabled = true;  // To prevent multiple clicks.\n",
              "      quickchartButtonEl.classList.add('colab-df-spinner');\n",
              "      try {\n",
              "        const charts = await google.colab.kernel.invokeFunction(\n",
              "            'suggestCharts', [key], {});\n",
              "      } catch (error) {\n",
              "        console.error('Error during call to suggestCharts:', error);\n",
              "      }\n",
              "      quickchartButtonEl.classList.remove('colab-df-spinner');\n",
              "      quickchartButtonEl.classList.add('colab-df-quickchart-complete');\n",
              "    }\n",
              "    (() => {\n",
              "      let quickchartButtonEl =\n",
              "        document.querySelector('#df-0cb162be-3ea0-4606-8fc0-1184b2b4747b button');\n",
              "      quickchartButtonEl.style.display =\n",
              "        google.colab.kernel.accessAllowed ? 'block' : 'none';\n",
              "    })();\n",
              "  </script>\n",
              "</div>\n",
              "\n",
              "    </div>\n",
              "  </div>\n"
            ],
            "application/vnd.google.colaboratory.intrinsic+json": {
              "type": "dataframe",
              "variable_name": "wind_speed_data",
              "summary": "{\n  \"name\": \"wind_speed_data\",\n  \"rows\": 50530,\n  \"fields\": [\n    {\n      \"column\": \"Date/Time\",\n      \"properties\": {\n        \"dtype\": \"object\",\n        \"num_unique_values\": 50530,\n        \"samples\": [\n          \"02 03 2018 10:40\",\n          \"02 03 2018 11:00\",\n          \"30 12 2018 01:20\"\n        ],\n        \"semantic_type\": \"\",\n        \"description\": \"\"\n      }\n    },\n    {\n      \"column\": \"Wind Speed (m/s)\",\n      \"properties\": {\n        \"dtype\": \"number\",\n        \"std\": 4.227166055607975,\n        \"min\": 0.0,\n        \"max\": 25.20601082,\n        \"num_unique_values\": 50305,\n        \"samples\": [\n          7.349854946,\n          16.72193909,\n          5.161306858\n        ],\n        \"semantic_type\": \"\",\n        \"description\": \"\"\n      }\n    },\n    {\n      \"column\": \"date_formatted\",\n      \"properties\": {\n        \"dtype\": \"number\",\n        \"std\": 103,\n        \"min\": 736695,\n        \"max\": 737059,\n        \"num_unique_values\": 356,\n        \"samples\": [\n          736925,\n          736740,\n          736954\n        ],\n        \"semantic_type\": \"\",\n        \"description\": \"\"\n      }\n    }\n  ]\n}"
            }
          },
          "metadata": {},
          "execution_count": 6
        }
      ]
    },
    {
      "cell_type": "code",
      "source": [
        "#Random Forest Regression\n",
        "from sklearn.ensemble import RandomForestRegressor\n",
        "rfr_model = RandomForestRegressor()\n",
        "rfr_model.fit(X_train, Y_train)\n",
        "Y_pred1 = rfr_model.predict(X_test)\n",
        "MSE = mean_squared_error(Y_test, Y_pred1)\n",
        "MAE = mean_absolute_error(Y_test, Y_pred1)\n",
        "R2 = r2_score(Y_test, Y_pred1)\n",
        "print(MSE)\n",
        "print(MAE)\n",
        "print(R2)\n",
        "\n"
      ],
      "metadata": {
        "id": "h9mx7K9s5ElS",
        "colab": {
          "base_uri": "https://localhost:8080/"
        },
        "outputId": "c26daf34-09ef-4fbb-cc0b-004ec017290f"
      },
      "execution_count": null,
      "outputs": [
        {
          "output_type": "stream",
          "name": "stdout",
          "text": [
            "5.641794902725832\n",
            "1.811856800025513\n",
            "0.6818845348212875\n"
          ]
        }
      ]
    },
    {
      "cell_type": "code",
      "source": [
        "#KNN Regression\n",
        "from sklearn.neighbors import KNeighborsRegressor\n",
        "knnmodel = KNeighborsRegressor(n_neighbors=100)\n",
        "knnmodel.fit(X_train,Y_train)\n",
        "Y_pred2 = knnmodel.predict(X_test)\n",
        "MSE = mean_squared_error(Y_test, Y_pred2)\n",
        "MAE = mean_absolute_error(Y_test, Y_pred2)\n",
        "R2 = r2_score(Y_test, Y_pred2)\n",
        "print(MSE)\n",
        "print(MAE)\n",
        "print(R2)"
      ],
      "metadata": {
        "id": "IfjH-B2l73QG",
        "colab": {
          "base_uri": "https://localhost:8080/"
        },
        "outputId": "d80821ca-dcee-41bb-c7d5-35b5cb0e466a"
      },
      "execution_count": null,
      "outputs": [
        {
          "output_type": "stream",
          "name": "stdout",
          "text": [
            "5.805478961999997\n",
            "1.8441178854594162\n",
            "0.6678920366014505\n"
          ]
        }
      ]
    },
    {
      "cell_type": "code",
      "source": [
        "#XGBOOST\n",
        "import xgboost as xgb\n",
        "xgb_model = xgb.XGBRegressor(max_depth=7)\n",
        "xgb_model.fit( X_train, Y_train)\n",
        "y_pred = xgb_model.predict(X_test)\n",
        "MSE = mean_squared_error(Y_test, y_pred)\n",
        "MAE = mean_absolute_error(Y_test, y_pred)\n",
        "R2 = r2_score(Y_test, y_pred)\n",
        "print(MSE)\n",
        "print(MAE)\n",
        "print(R2)\n"
      ],
      "metadata": {
        "id": "5xtJF5JgDKUa",
        "colab": {
          "base_uri": "https://localhost:8080/"
        },
        "outputId": "b386dc88-3a09-4220-f66c-d1a0898ad20a"
      },
      "execution_count": null,
      "outputs": [
        {
          "output_type": "stream",
          "name": "stdout",
          "text": [
            "8.153051165142728\n",
            "2.168701685359275\n",
            "0.5483590529708566\n"
          ]
        }
      ]
    },
    {
      "cell_type": "code",
      "source": [
        "#decision tree\n",
        "from sklearn.tree import DecisionTreeRegressor\n",
        "decision_tree= DecisionTreeRegressor()\n",
        "decision_tree.fit(X_train,Y_train)\n",
        "Y_pred_dt = decision_tree.predict(X_test)\n",
        "MSE = mean_squared_error(Y_test, Y_pred_dt)\n",
        "MAE = mean_absolute_error(Y_test, Y_pred_dt)\n",
        "R2 = r2_score(Y_test, Y_pred_dt)\n",
        "print(MSE)\n",
        "print(MAE)\n",
        "print(R2)"
      ],
      "metadata": {
        "id": "b4ACe7ob53oM",
        "colab": {
          "base_uri": "https://localhost:8080/"
        },
        "outputId": "99f14f11-8022-439e-dee0-2aea6d67b6f6"
      },
      "execution_count": null,
      "outputs": [
        {
          "output_type": "stream",
          "name": "stdout",
          "text": [
            "5.888732818813982\n",
            "1.8563190867738493\n",
            "0.6672506295107514\n"
          ]
        }
      ]
    },
    {
      "cell_type": "code",
      "source": [
        "#Neural Network\n",
        "import tensorflow as tf\n",
        "from keras.models import Sequential\n",
        "from keras.layers import Dense\n",
        "from keras.regularizers import l1\n",
        "from keras.optimizers import Adam\n",
        "from keras.callbacks import EarlyStopping\n",
        "from sklearn.metrics import r2_score\n",
        "from sklearn.preprocessing import StandardScaler\n",
        "scaler = StandardScaler()\n",
        "X_train_scaled = scaler.fit_transform(X_train)\n",
        "X_test_scaled = scaler.transform(X_test)\n",
        "\n",
        "# Define the model architecture\n",
        "nnmodel = Sequential()\n",
        "nnmodel.add(Dense(10, activation='relu', input_shape=(1,), kernel_regularizer=l1(0.01)))\n",
        "nnmodel.add(Dense(200, activation='relu', kernel_regularizer=l1(0.01)))\n",
        "nnmodel.add(Dense(200, activation='relu', kernel_regularizer=l1(0.01)))\n",
        "nnmodel.add(Dense(1))  # Output layer with linear activation\n",
        "\n",
        "# Compile the model\n",
        "optimizer = Adam(lr=0.01)\n",
        "nnmodel.compile(optimizer=optimizer, loss='mean_squared_error')\n",
        "\n",
        "# Define early stopping callback\n",
        "early_stopping = EarlyStopping(monitor='val_loss', patience=10, restore_best_weights=True)\n",
        "\n",
        "# Train the model\n",
        "history = nnmodel.fit(X_train_scaled, Y_train, batch_size=32, epochs=200, validation_split=0.2, callbacks=[early_stopping])\n",
        "\n",
        "# Evaluate the model\n",
        "y_nnpred = nnmodel.predict(X_test_scaled)\n",
        "r2 = r2_score(Y_test, y_nnpred)\n",
        "MSE = mean_squared_error(Y_test, y_nnpred)\n",
        "MAE = mean_absolute_error(Y_test, y_nnpred)\n",
        "print(\"R2 Score:\", r2)\n",
        "print(MSE)\n",
        "print(MAE)"
      ],
      "metadata": {
        "id": "07XuS2LfVYUM"
      },
      "execution_count": null,
      "outputs": []
    }
  ]
}